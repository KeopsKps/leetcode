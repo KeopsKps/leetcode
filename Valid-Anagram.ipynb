{
 "cells": [
  {
   "cell_type": "markdown",
   "metadata": {},
   "source": [
    "# Valid Anagram"
   ]
  },
  {
   "cell_type": "markdown",
   "metadata": {},
   "source": [
    "Given two strings `s` and `t`, return `true` if `t` is an anagram of `s`, and `false` otherwise.\n",
    "\n",
    "An **Anagram** is a word or phrase formed by rearranging the letters of a different word or phrase, typically using all the original letters exactly once.\n",
    "\n",
    "Example 1:\n",
    "\n",
    "`Input: s = \"anagram\", t = \"nagaram\"`\n",
    "`Output: true`\n",
    "\n",
    "Example 2:\n",
    "\n",
    "`Input: s = \"rat\", t = \"car\"`\n",
    "`Output: false`"
   ]
  },
  {
   "cell_type": "markdown",
   "metadata": {},
   "source": [
    "### Solution"
   ]
  },
  {
   "cell_type": "code",
   "execution_count": 2,
   "metadata": {},
   "outputs": [],
   "source": [
    "class Solution(object):\n",
    "    def isAnagram(self, s, t):\n",
    "        dict_s = dict()\n",
    "        dict_t = dict()\n",
    "        for letter in s:\n",
    "            if letter in dict_s:\n",
    "                dict_s[letter] += 1\n",
    "            else:\n",
    "                dict_s[letter] = 1\n",
    "                \n",
    "        for letter in t:\n",
    "            if letter in dict_t:\n",
    "                dict_t[letter] += 1\n",
    "            else:\n",
    "                dict_t[letter] = 1\n",
    "                \n",
    "        return dict_s == dict_t "
   ]
  },
  {
   "cell_type": "markdown",
   "metadata": {},
   "source": [
    "### Alternative Solution 1"
   ]
  },
  {
   "cell_type": "code",
   "execution_count": 3,
   "metadata": {},
   "outputs": [],
   "source": [
    "class Solution_1(object):\n",
    "    def initialize_dict(self, string):\n",
    "        dict_string = dict()\n",
    "        for letter in string:\n",
    "            if letter in dict_string:\n",
    "                dict_string[letter] += 1\n",
    "            else:\n",
    "                dict_string[letter] = 1\n",
    "        return dict_string\n",
    "    \n",
    "    def isAnagram(self, s, t):\n",
    "        dict_s = self.initialize_dict(s)\n",
    "        dict_t = self.initialize_dict(t)\n",
    "        return dict_s == dict_t"
   ]
  },
  {
   "cell_type": "markdown",
   "metadata": {},
   "source": [
    "## Running test cases"
   ]
  },
  {
   "cell_type": "code",
   "execution_count": 6,
   "metadata": {},
   "outputs": [
    {
     "name": "stdout",
     "output_type": "stream",
     "text": [
      "True\n",
      "False\n"
     ]
    }
   ],
   "source": [
    "sol = Solution()\n",
    "print(sol.isAnagram(\"anagram\", \"nagaram\"))\n",
    "print(sol.isAnagram(\"rat\", \"car\"))"
   ]
  },
  {
   "cell_type": "code",
   "execution_count": 7,
   "metadata": {},
   "outputs": [
    {
     "name": "stdout",
     "output_type": "stream",
     "text": [
      "True\n",
      "False\n"
     ]
    }
   ],
   "source": [
    "sol_1 = Solution_1()\n",
    "print(sol_1.isAnagram(\"anagram\", \"nagaram\"))\n",
    "print(sol_1.isAnagram(\"rat\", \"car\"))"
   ]
  }
 ],
 "metadata": {
  "kernelspec": {
   "display_name": "Python 3.7.10 ('myenv')",
   "language": "python",
   "name": "python3"
  },
  "language_info": {
   "codemirror_mode": {
    "name": "ipython",
    "version": 3
   },
   "file_extension": ".py",
   "mimetype": "text/x-python",
   "name": "python",
   "nbconvert_exporter": "python",
   "pygments_lexer": "ipython3",
   "version": "3.7.10"
  },
  "orig_nbformat": 4,
  "vscode": {
   "interpreter": {
    "hash": "f89164d01cc9c3c64b373c223eb57b276fb14a88b026faee8196e8dcec3853d1"
   }
  }
 },
 "nbformat": 4,
 "nbformat_minor": 2
}
